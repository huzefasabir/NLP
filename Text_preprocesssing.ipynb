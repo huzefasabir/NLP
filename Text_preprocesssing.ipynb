{
 "cells": [
  {
   "cell_type": "markdown",
   "id": "ebdd34dd",
   "metadata": {},
   "source": [
    "Text Preprocessing "
   ]
  },
  {
   "cell_type": "markdown",
   "id": "cd6cb899",
   "metadata": {},
   "source": [
    "nltk library "
   ]
  },
  {
   "cell_type": "code",
   "execution_count": 5,
   "id": "db6bea36",
   "metadata": {},
   "outputs": [],
   "source": [
    "paragraph=\"\"\"Mahendra Singh Dhoni (/məˈheɪndrə ˈsɪŋ dhæˈnɪ/ ⓘ; born 7 July 1981) is an Indian professional cricketer who plays as a right-handed batter and a wicket-keeper. Widely regarded as one of the most prolific wicket-keeper batsmen and captains and one of the greatest ODI batsmen, he represented the Indian cricket team and was the captain of the side in limited overs formats from 2007 to 2017 and in test cricket from 2008 to 2014. Dhoni has captained the most international matches and is the most successful Indian captain. He has led India to victory in the 2007 ICC World Twenty20, the 2011 Cricket World Cup, and the 2013 ICC Champions Trophy, being the only captain to win three different limited overs ICC tournaments. He also led the teams that won the Asia Cup in 2010, 2016 and was a member of the title winning squad in 2018\"\"\""
   ]
  },
  {
   "cell_type": "code",
   "execution_count": 6,
   "id": "0e9a89f5",
   "metadata": {},
   "outputs": [],
   "source": [
    "import nltk\n",
    "from nltk.stem import PorterStemmer\n",
    "from nltk.corpus import stopwords"
   ]
  },
  {
   "cell_type": "code",
   "execution_count": 7,
   "id": "16e3bb5a",
   "metadata": {},
   "outputs": [
    {
     "name": "stdout",
     "output_type": "stream",
     "text": [
      "['C:\\\\Users\\\\huzef/nltk_data', 'c:\\\\Users\\\\huzef\\\\anaconda3\\\\nltk_data', 'c:\\\\Users\\\\huzef\\\\anaconda3\\\\share\\\\nltk_data', 'c:\\\\Users\\\\huzef\\\\anaconda3\\\\lib\\\\nltk_data', 'C:\\\\Users\\\\huzef\\\\AppData\\\\Roaming\\\\nltk_data', 'C:\\\\nltk_data', 'D:\\\\nltk_data', 'E:\\\\nltk_data']\n"
     ]
    }
   ],
   "source": [
    "print(nltk.data.path)"
   ]
  },
  {
   "cell_type": "code",
   "execution_count": 8,
   "id": "d113e692",
   "metadata": {},
   "outputs": [
    {
     "name": "stderr",
     "output_type": "stream",
     "text": [
      "[nltk_data] Downloading package punkt to\n",
      "[nltk_data]     c:\\Users\\huzef\\anaconda3\\nltk_data...\n",
      "[nltk_data]   Unzipping tokenizers\\punkt.zip.\n"
     ]
    },
    {
     "data": {
      "text/plain": [
       "True"
      ]
     },
     "execution_count": 8,
     "metadata": {},
     "output_type": "execute_result"
    }
   ],
   "source": [
    "nltk.download('punkt')\n"
   ]
  },
  {
   "cell_type": "code",
   "execution_count": 9,
   "id": "94852212",
   "metadata": {},
   "outputs": [],
   "source": [
    "## Tokenization\n",
    "sentence=nltk.sent_tokenize(paragraph)"
   ]
  },
  {
   "cell_type": "code",
   "execution_count": 10,
   "id": "03fc5118",
   "metadata": {},
   "outputs": [
    {
     "data": {
      "text/plain": [
       "['Mahendra Singh Dhoni (/məˈheɪndrə ˈsɪŋ dhæˈnɪ/ ⓘ; born 7 July 1981) is an Indian professional cricketer who plays as a right-handed batter and a wicket-keeper.',\n",
       " 'Widely regarded as one of the most prolific wicket-keeper batsmen and captains and one of the greatest ODI batsmen, he represented the Indian cricket team and was the captain of the side in limited overs formats from 2007 to 2017 and in test cricket from 2008 to 2014.',\n",
       " 'Dhoni has captained the most international matches and is the most successful Indian captain.',\n",
       " 'He has led India to victory in the 2007 ICC World Twenty20, the 2011 Cricket World Cup, and the 2013 ICC Champions Trophy, being the only captain to win three different limited overs ICC tournaments.',\n",
       " 'He also led the teams that won the Asia Cup in 2010, 2016 and was a member of the title winning squad in 2018']"
      ]
     },
     "execution_count": 10,
     "metadata": {},
     "output_type": "execute_result"
    }
   ],
   "source": [
    "sentence"
   ]
  },
  {
   "cell_type": "markdown",
   "id": "974f5899",
   "metadata": {},
   "source": [
    "Cleaning the Text\n"
   ]
  },
  {
   "cell_type": "code",
   "execution_count": 11,
   "id": "7c35bdfe",
   "metadata": {},
   "outputs": [],
   "source": [
    "import re"
   ]
  },
  {
   "cell_type": "code",
   "execution_count": 12,
   "id": "48da5c53",
   "metadata": {},
   "outputs": [
    {
     "data": {
      "text/plain": [
       "['mahendra singh dhoni   m  he ndr   s   dh  n      born   july       is an indian professional cricketer who plays as a right handed batter and a wicket keeper ',\n",
       " 'widely regarded as one of the most prolific wicket keeper batsmen and captains and one of the greatest odi batsmen  he represented the indian cricket team and was the captain of the side in limited overs formats from      to      and in test cricket from      to      ',\n",
       " 'dhoni has captained the most international matches and is the most successful indian captain ',\n",
       " 'he has led india to victory in the      icc world twenty    the      cricket world cup  and the      icc champions trophy  being the only captain to win three different limited overs icc tournaments ',\n",
       " 'he also led the teams that won the asia cup in            and was a member of the title winning squad in     ']"
      ]
     },
     "execution_count": 12,
     "metadata": {},
     "output_type": "execute_result"
    }
   ],
   "source": [
    "corpus=[]\n",
    "for i in range(len(sentence)):\n",
    "    review=re.sub('[^a-zA-Z]',' ',sentence[i])\n",
    "    review=review.lower()\n",
    "    corpus.append(review)\n",
    "corpus\n"
   ]
  },
  {
   "cell_type": "markdown",
   "id": "44a6b86b",
   "metadata": {},
   "source": [
    "Stemming"
   ]
  },
  {
   "cell_type": "code",
   "execution_count": 13,
   "id": "23a95240",
   "metadata": {},
   "outputs": [],
   "source": [
    "stemmer=PorterStemmer()\n"
   ]
  },
  {
   "cell_type": "markdown",
   "id": "644005f9",
   "metadata": {},
   "source": []
  },
  {
   "cell_type": "code",
   "execution_count": 14,
   "id": "e92f6b0c",
   "metadata": {},
   "outputs": [
    {
     "name": "stderr",
     "output_type": "stream",
     "text": [
      "[nltk_data] Downloading package stopwords to\n",
      "[nltk_data]     c:\\Users\\huzef\\anaconda3\\nltk_data...\n",
      "[nltk_data]   Package stopwords is already up-to-date!\n"
     ]
    },
    {
     "data": {
      "text/plain": [
       "True"
      ]
     },
     "execution_count": 14,
     "metadata": {},
     "output_type": "execute_result"
    }
   ],
   "source": [
    "import nltk\n",
    "nltk.download('stopwords')"
   ]
  },
  {
   "cell_type": "code",
   "execution_count": 15,
   "id": "f2c98761",
   "metadata": {},
   "outputs": [
    {
     "name": "stdout",
     "output_type": "stream",
     "text": [
      "mahendra\n",
      "singh\n",
      "dhoni\n",
      "ndr\n",
      "dh\n",
      "n\n",
      "born\n",
      "juli\n",
      "indian\n",
      "profession\n",
      "cricket\n",
      "play\n",
      "right\n",
      "hand\n",
      "batter\n",
      "wicket\n",
      "keeper\n",
      "wide\n",
      "regard\n",
      "one\n",
      "prolif\n",
      "wicket\n",
      "keeper\n",
      "batsmen\n",
      "captain\n",
      "one\n",
      "greatest\n",
      "odi\n",
      "batsmen\n",
      "repres\n",
      "indian\n",
      "cricket\n",
      "team\n",
      "captain\n",
      "side\n",
      "limit\n",
      "over\n",
      "format\n",
      "test\n",
      "cricket\n",
      "dhoni\n",
      "captain\n",
      "intern\n",
      "match\n",
      "success\n",
      "indian\n",
      "captain\n",
      "led\n",
      "india\n",
      "victori\n",
      "icc\n",
      "world\n",
      "twenti\n",
      "cricket\n",
      "world\n",
      "cup\n",
      "icc\n",
      "champion\n",
      "trophi\n",
      "captain\n",
      "win\n",
      "three\n",
      "differ\n",
      "limit\n",
      "over\n",
      "icc\n",
      "tournament\n",
      "also\n",
      "led\n",
      "team\n",
      "asia\n",
      "cup\n",
      "member\n",
      "titl\n",
      "win\n",
      "squad\n"
     ]
    }
   ],
   "source": [
    "for i in corpus:\n",
    "    words=nltk.word_tokenize(i)\n",
    "    for word in words:\n",
    "        if word not in set(stopwords.words('english')):\n",
    "            print(stemmer.stem(word))"
   ]
  },
  {
   "cell_type": "markdown",
   "id": "7174c932",
   "metadata": {},
   "source": [
    "Stopwords"
   ]
  },
  {
   "cell_type": "code",
   "execution_count": null,
   "id": "3517e703",
   "metadata": {},
   "outputs": [],
   "source": []
  },
  {
   "cell_type": "code",
   "execution_count": null,
   "id": "56aefdf7",
   "metadata": {},
   "outputs": [],
   "source": []
  },
  {
   "cell_type": "markdown",
   "id": "5d5b0979",
   "metadata": {},
   "source": [
    "Lemmatization"
   ]
  },
  {
   "cell_type": "code",
   "execution_count": 16,
   "id": "bcca894d",
   "metadata": {},
   "outputs": [],
   "source": [
    "\n",
    "from nltk.stem import WordNetLemmatizer"
   ]
  },
  {
   "cell_type": "code",
   "execution_count": 17,
   "id": "29de88b0",
   "metadata": {},
   "outputs": [],
   "source": [
    "lemmatizer=WordNetLemmatizer()"
   ]
  },
  {
   "cell_type": "code",
   "execution_count": 18,
   "id": "3ffa2fb0",
   "metadata": {},
   "outputs": [
    {
     "name": "stderr",
     "output_type": "stream",
     "text": [
      "[nltk_data] Downloading package wordnet to\n",
      "[nltk_data]     c:\\Users\\huzef\\anaconda3\\nltk_data...\n"
     ]
    },
    {
     "data": {
      "text/plain": [
       "True"
      ]
     },
     "execution_count": 18,
     "metadata": {},
     "output_type": "execute_result"
    }
   ],
   "source": [
    "nltk.download('wordnet')"
   ]
  },
  {
   "cell_type": "code",
   "execution_count": 19,
   "id": "ac2af6d0",
   "metadata": {},
   "outputs": [
    {
     "name": "stdout",
     "output_type": "stream",
     "text": [
      "mahendra\n",
      "singh\n",
      "dhoni\n",
      "ndr\n",
      "dh\n",
      "n\n",
      "born\n",
      "july\n",
      "indian\n",
      "professional\n",
      "cricketer\n",
      "play\n",
      "right\n",
      "handed\n",
      "batter\n",
      "wicket\n",
      "keeper\n",
      "widely\n",
      "regarded\n",
      "one\n",
      "prolific\n",
      "wicket\n",
      "keeper\n",
      "batsman\n",
      "captain\n",
      "one\n",
      "greatest\n",
      "odi\n",
      "batsman\n",
      "represented\n",
      "indian\n",
      "cricket\n",
      "team\n",
      "captain\n",
      "side\n",
      "limited\n",
      "over\n",
      "format\n",
      "test\n",
      "cricket\n",
      "dhoni\n",
      "captained\n",
      "international\n",
      "match\n",
      "successful\n",
      "indian\n",
      "captain\n",
      "led\n",
      "india\n",
      "victory\n",
      "icc\n",
      "world\n",
      "twenty\n",
      "cricket\n",
      "world\n",
      "cup\n",
      "icc\n",
      "champion\n",
      "trophy\n",
      "captain\n",
      "win\n",
      "three\n",
      "different\n",
      "limited\n",
      "over\n",
      "icc\n",
      "tournament\n",
      "also\n",
      "led\n",
      "team\n",
      "asia\n",
      "cup\n",
      "member\n",
      "title\n",
      "winning\n",
      "squad\n"
     ]
    }
   ],
   "source": [
    "for i in corpus:\n",
    "    words=nltk.word_tokenize(i)\n",
    "    for word in words:\n",
    "        if word not in set(stopwords.words('english')):\n",
    "            print(lemmatizer.lemmatize(word))"
   ]
  },
  {
   "cell_type": "code",
   "execution_count": null,
   "id": "b55e0eb7",
   "metadata": {},
   "outputs": [],
   "source": []
  },
  {
   "cell_type": "markdown",
   "id": "38c97999",
   "metadata": {},
   "source": [
    "Stopwords in lemmatization"
   ]
  },
  {
   "cell_type": "code",
   "execution_count": 20,
   "id": "08449884",
   "metadata": {},
   "outputs": [
    {
     "name": "stderr",
     "output_type": "stream",
     "text": [
      "[nltk_data] Downloading package stopwords to\n",
      "[nltk_data]     c:\\Users\\huzef\\anaconda3\\nltk_data...\n",
      "[nltk_data]   Package stopwords is already up-to-date!\n"
     ]
    },
    {
     "data": {
      "text/plain": [
       "True"
      ]
     },
     "execution_count": 20,
     "metadata": {},
     "output_type": "execute_result"
    }
   ],
   "source": [
    "nltk.download('stopwords')"
   ]
  },
  {
   "cell_type": "code",
   "execution_count": 21,
   "id": "0b978b9e",
   "metadata": {},
   "outputs": [],
   "source": [
    "corpus=[]\n",
    "for i in range(len(sentence)):\n",
    "    rev=re.sub('[^a-zA-Z]', ' ',sentence[i])\n",
    "    rev=rev.lower()\n",
    "    rev=rev.split()\n",
    "    rev=[lemmatizer.lemmatize(word) for word in rev if not word in set(stopwords.words('english'))]\n",
    "    rev=' '.join(rev)\n",
    "    corpus.append(rev)"
   ]
  },
  {
   "cell_type": "markdown",
   "id": "1993ddc9",
   "metadata": {},
   "source": [
    "Bag of Word"
   ]
  },
  {
   "cell_type": "code",
   "execution_count": 22,
   "id": "4647792c",
   "metadata": {},
   "outputs": [],
   "source": [
    "from sklearn.feature_extraction.text import CountVectorizer\n",
    "cv=CountVectorizer()"
   ]
  },
  {
   "cell_type": "code",
   "execution_count": 23,
   "id": "74768655",
   "metadata": {},
   "outputs": [],
   "source": [
    "X=cv.fit_transform(corpus)"
   ]
  },
  {
   "cell_type": "code",
   "execution_count": 24,
   "id": "4808f9d9",
   "metadata": {},
   "outputs": [
    {
     "data": {
      "text/plain": [
       "{'mahendra': 25,\n",
       " 'singh': 39,\n",
       " 'dhoni': 12,\n",
       " 'ndr': 28,\n",
       " 'dh': 11,\n",
       " 'born': 4,\n",
       " 'july': 21,\n",
       " 'indian': 19,\n",
       " 'professional': 33,\n",
       " 'cricketer': 9,\n",
       " 'play': 32,\n",
       " 'right': 37,\n",
       " 'handed': 16,\n",
       " 'batter': 3,\n",
       " 'wicket': 50,\n",
       " 'keeper': 22,\n",
       " 'widely': 51,\n",
       " 'regarded': 35,\n",
       " 'one': 30,\n",
       " 'prolific': 34,\n",
       " 'batsman': 2,\n",
       " 'captain': 5,\n",
       " 'greatest': 15,\n",
       " 'odi': 29,\n",
       " 'represented': 36,\n",
       " 'cricket': 8,\n",
       " 'team': 42,\n",
       " 'side': 38,\n",
       " 'limited': 24,\n",
       " 'over': 31,\n",
       " 'format': 14,\n",
       " 'test': 43,\n",
       " 'captained': 6,\n",
       " 'international': 20,\n",
       " 'match': 26,\n",
       " 'successful': 41,\n",
       " 'led': 23,\n",
       " 'india': 18,\n",
       " 'victory': 49,\n",
       " 'icc': 17,\n",
       " 'world': 54,\n",
       " 'twenty': 48,\n",
       " 'cup': 10,\n",
       " 'champion': 7,\n",
       " 'trophy': 47,\n",
       " 'win': 52,\n",
       " 'three': 44,\n",
       " 'different': 13,\n",
       " 'tournament': 46,\n",
       " 'also': 0,\n",
       " 'asia': 1,\n",
       " 'member': 27,\n",
       " 'title': 45,\n",
       " 'winning': 53,\n",
       " 'squad': 40}"
      ]
     },
     "execution_count": 24,
     "metadata": {},
     "output_type": "execute_result"
    }
   ],
   "source": [
    "cv.vocabulary_# gives the indices of the words "
   ]
  },
  {
   "cell_type": "code",
   "execution_count": 25,
   "id": "4134ff88",
   "metadata": {},
   "outputs": [
    {
     "data": {
      "text/plain": [
       "'mahendra singh dhoni ndr dh n born july indian professional cricketer play right handed batter wicket keeper'"
      ]
     },
     "execution_count": 25,
     "metadata": {},
     "output_type": "execute_result"
    }
   ],
   "source": [
    "corpus[0]"
   ]
  },
  {
   "cell_type": "code",
   "execution_count": 26,
   "id": "34c676fe",
   "metadata": {},
   "outputs": [
    {
     "data": {
      "text/plain": [
       "array([[0, 0, 0, 1, 1, 0, 0, 0, 0, 1, 0, 1, 1, 0, 0, 0, 1, 0, 0, 1, 0, 1,\n",
       "        1, 0, 0, 1, 0, 0, 1, 0, 0, 0, 1, 1, 0, 0, 0, 1, 0, 1, 0, 0, 0, 0,\n",
       "        0, 0, 0, 0, 0, 0, 1, 0, 0, 0, 0]], dtype=int64)"
      ]
     },
     "execution_count": 26,
     "metadata": {},
     "output_type": "execute_result"
    }
   ],
   "source": [
    "X[0].toarray()"
   ]
  },
  {
   "cell_type": "code",
   "execution_count": null,
   "id": "aff91a83",
   "metadata": {},
   "outputs": [],
   "source": []
  }
 ],
 "metadata": {
  "kernelspec": {
   "display_name": "base",
   "language": "python",
   "name": "python3"
  },
  "language_info": {
   "codemirror_mode": {
    "name": "ipython",
    "version": 3
   },
   "file_extension": ".py",
   "mimetype": "text/x-python",
   "name": "python",
   "nbconvert_exporter": "python",
   "pygments_lexer": "ipython3",
   "version": "3.12.7"
  }
 },
 "nbformat": 4,
 "nbformat_minor": 5
}
