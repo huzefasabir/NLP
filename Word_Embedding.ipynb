{
 "cells": [
  {
   "cell_type": "code",
   "execution_count": 4,
   "id": "fff012aa",
   "metadata": {},
   "outputs": [
    {
     "name": "stdout",
     "output_type": "stream",
     "text": [
      "Collecting tensorflow-gpu\n",
      "  Using cached tensorflow-gpu-2.12.0.tar.gz (2.6 kB)\n",
      "  Preparing metadata (setup.py): started\n",
      "  Preparing metadata (setup.py): finished with status 'error'\n"
     ]
    },
    {
     "name": "stderr",
     "output_type": "stream",
     "text": [
      "  error: subprocess-exited-with-error\n",
      "  \n",
      "  × python setup.py egg_info did not run successfully.\n",
      "  │ exit code: 1\n",
      "  ╰─> [44 lines of output]\n",
      "      Traceback (most recent call last):\n",
      "        File \"C:\\Users\\huzef\\anaconda3\\Lib\\site-packages\\packaging\\requirements.py\", line 36, in __init__\n",
      "          parsed = _parse_requirement(requirement_string)\n",
      "                   ^^^^^^^^^^^^^^^^^^^^^^^^^^^^^^^^^^^^^^\n",
      "        File \"C:\\Users\\huzef\\anaconda3\\Lib\\site-packages\\packaging\\_parser.py\", line 62, in parse_requirement\n",
      "          return _parse_requirement(Tokenizer(source, rules=DEFAULT_RULES))\n",
      "                 ^^^^^^^^^^^^^^^^^^^^^^^^^^^^^^^^^^^^^^^^^^^^^^^^^^^^^^^^^^\n",
      "        File \"C:\\Users\\huzef\\anaconda3\\Lib\\site-packages\\packaging\\_parser.py\", line 80, in _parse_requirement\n",
      "          url, specifier, marker = _parse_requirement_details(tokenizer)\n",
      "                                   ^^^^^^^^^^^^^^^^^^^^^^^^^^^^^^^^^^^^^\n",
      "        File \"C:\\Users\\huzef\\anaconda3\\Lib\\site-packages\\packaging\\_parser.py\", line 124, in _parse_requirement_details\n",
      "          marker = _parse_requirement_marker(\n",
      "                   ^^^^^^^^^^^^^^^^^^^^^^^^^^\n",
      "        File \"C:\\Users\\huzef\\anaconda3\\Lib\\site-packages\\packaging\\_parser.py\", line 145, in _parse_requirement_marker\n",
      "          tokenizer.raise_syntax_error(\n",
      "        File \"C:\\Users\\huzef\\anaconda3\\Lib\\site-packages\\packaging\\_tokenizer.py\", line 167, in raise_syntax_error\n",
      "          raise ParserSyntaxError(\n",
      "      packaging._tokenizer.ParserSyntaxError: Expected end or semicolon (after name and no valid version specifier)\n",
      "          python_version>\"3.7\"\n",
      "                        ^\n",
      "      \n",
      "      The above exception was the direct cause of the following exception:\n",
      "      \n",
      "      Traceback (most recent call last):\n",
      "        File \"<string>\", line 2, in <module>\n",
      "        File \"<pip-setuptools-caller>\", line 34, in <module>\n",
      "        File \"C:\\Users\\huzef\\AppData\\Local\\Temp\\pip-install-png3xc68\\tensorflow-gpu_1a5d9c66b13d4b81a2d9b2a576a2532f\\setup.py\", line 40, in <module>\n",
      "          setuptools.setup()\n",
      "        File \"C:\\Users\\huzef\\anaconda3\\Lib\\site-packages\\setuptools\\__init__.py\", line 116, in setup\n",
      "          _install_setup_requires(attrs)\n",
      "        File \"C:\\Users\\huzef\\anaconda3\\Lib\\site-packages\\setuptools\\__init__.py\", line 87, in _install_setup_requires\n",
      "          dist.parse_config_files(ignore_option_errors=True)\n",
      "        File \"C:\\Users\\huzef\\anaconda3\\Lib\\site-packages\\setuptools\\dist.py\", line 610, in parse_config_files\n",
      "          self._finalize_requires()\n",
      "        File \"C:\\Users\\huzef\\anaconda3\\Lib\\site-packages\\setuptools\\dist.py\", line 344, in _finalize_requires\n",
      "          self._normalize_requires()\n",
      "        File \"C:\\Users\\huzef\\anaconda3\\Lib\\site-packages\\setuptools\\dist.py\", line 359, in _normalize_requires\n",
      "          self.install_requires = list(map(str, _reqs.parse(install_requires)))\n",
      "                                  ^^^^^^^^^^^^^^^^^^^^^^^^^^^^^^^^^^^^^^^^^^^^^\n",
      "        File \"C:\\Users\\huzef\\anaconda3\\Lib\\site-packages\\packaging\\requirements.py\", line 38, in __init__\n",
      "          raise InvalidRequirement(str(e)) from e\n",
      "      packaging.requirements.InvalidRequirement: Expected end or semicolon (after name and no valid version specifier)\n",
      "          python_version>\"3.7\"\n",
      "                        ^\n",
      "      [end of output]\n",
      "  \n",
      "  note: This error originates from a subprocess, and is likely not a problem with pip.\n",
      "error: metadata-generation-failed\n",
      "\n",
      "× Encountered error while generating package metadata.\n",
      "╰─> See above for output.\n",
      "\n",
      "note: This is an issue with the package mentioned above, not pip.\n",
      "hint: See above for details.\n"
     ]
    }
   ],
   "source": [
    "!pip install tensorflow-gpu\n"
   ]
  },
  {
   "cell_type": "code",
   "execution_count": 16,
   "id": "9e763356",
   "metadata": {},
   "outputs": [
    {
     "name": "stdout",
     "output_type": "stream",
     "text": [
      "2.18.0\n"
     ]
    }
   ],
   "source": [
    "import tensorflow as tf\n",
    "print(tf.__version__)"
   ]
  },
  {
   "cell_type": "code",
   "execution_count": 17,
   "id": "c9f56973",
   "metadata": {},
   "outputs": [],
   "source": [
    "from tensorflow.keras.preprocessing.text import one_hot"
   ]
  },
  {
   "cell_type": "code",
   "execution_count": 18,
   "id": "8d83bc67",
   "metadata": {},
   "outputs": [],
   "source": [
    "### sentences\n",
    "sent=[  'the glass of milk',\n",
    "     'the glass of juice',\n",
    "     'the cup of tea',\n",
    "    'I am a good boy',\n",
    "     'I am a good developer',\n",
    "     'understand the meaning of words',\n",
    "     'your videos are good']"
   ]
  },
  {
   "cell_type": "code",
   "execution_count": 19,
   "id": "02e3a447",
   "metadata": {},
   "outputs": [],
   "source": [
    "voc_size=500"
   ]
  },
  {
   "cell_type": "markdown",
   "id": "234427f9",
   "metadata": {},
   "source": [
    "One Hot REpresentation"
   ]
  },
  {
   "cell_type": "code",
   "execution_count": 20,
   "id": "a508653b",
   "metadata": {},
   "outputs": [
    {
     "name": "stdout",
     "output_type": "stream",
     "text": [
      "[[414, 49, 486, 117], [414, 49, 486, 434], [414, 449, 486, 430], [203, 411, 179, 157, 102], [203, 411, 179, 157, 146], [425, 414, 214, 486, 449], [385, 186, 37, 157]]\n"
     ]
    }
   ],
   "source": [
    "onehot_repr=[one_hot(words,voc_size)for words in sent]\n",
    "print(onehot_repr)"
   ]
  },
  {
   "cell_type": "code",
   "execution_count": 21,
   "id": "172ca397",
   "metadata": {},
   "outputs": [],
   "source": [
    "from tensorflow.keras.layers import Embedding\n",
    "from tensorflow.keras.preprocessing.sequence import pad_sequences\n",
    "from tensorflow.keras.models import Sequential\n",
    "import numpy as np"
   ]
  },
  {
   "cell_type": "code",
   "execution_count": 32,
   "id": "a20fa799",
   "metadata": {},
   "outputs": [
    {
     "name": "stdout",
     "output_type": "stream",
     "text": [
      "[[  0   0   0   0 414  49 486 117]\n",
      " [  0   0   0   0 414  49 486 434]\n",
      " [  0   0   0   0 414 449 486 430]\n",
      " [  0   0   0 203 411 179 157 102]\n",
      " [  0   0   0 203 411 179 157 146]\n",
      " [  0   0   0 425 414 214 486 449]\n",
      " [  0   0   0   0 385 186  37 157]]\n"
     ]
    }
   ],
   "source": [
    "sent_len=8\n",
    "embedded_doc=pad_sequences(onehot_repr,padding=\"pre\",maxlen=sent_len)\n",
    "print(embedded_doc)"
   ]
  },
  {
   "cell_type": "code",
   "execution_count": 33,
   "id": "aebdbde6",
   "metadata": {},
   "outputs": [],
   "source": [
    "#dimensions\n",
    "dim=10"
   ]
  },
  {
   "cell_type": "markdown",
   "id": "c071a82c",
   "metadata": {},
   "source": []
  },
  {
   "cell_type": "code",
   "execution_count": 34,
   "id": "55dea8fe",
   "metadata": {},
   "outputs": [],
   "source": [
    "model=Sequential()\n",
    "model.add(Embedding(voc_size,10))\n",
    "model.compile('adam','mse')"
   ]
  },
  {
   "cell_type": "code",
   "execution_count": 35,
   "id": "dac9bcad",
   "metadata": {},
   "outputs": [
    {
     "data": {
      "text/html": [
       "<pre style=\"white-space:pre;overflow-x:auto;line-height:normal;font-family:Menlo,'DejaVu Sans Mono',consolas,'Courier New',monospace\"><span style=\"font-weight: bold\">Model: \"sequential_5\"</span>\n",
       "</pre>\n"
      ],
      "text/plain": [
       "\u001b[1mModel: \"sequential_5\"\u001b[0m\n"
      ]
     },
     "metadata": {},
     "output_type": "display_data"
    },
    {
     "data": {
      "text/html": [
       "<pre style=\"white-space:pre;overflow-x:auto;line-height:normal;font-family:Menlo,'DejaVu Sans Mono',consolas,'Courier New',monospace\">┏━━━━━━━━━━━━━━━━━━━━━━━━━━━━━━━━━┳━━━━━━━━━━━━━━━━━━━━━━━━┳━━━━━━━━━━━━━━━┓\n",
       "┃<span style=\"font-weight: bold\"> Layer (type)                    </span>┃<span style=\"font-weight: bold\"> Output Shape           </span>┃<span style=\"font-weight: bold\">       Param # </span>┃\n",
       "┡━━━━━━━━━━━━━━━━━━━━━━━━━━━━━━━━━╇━━━━━━━━━━━━━━━━━━━━━━━━╇━━━━━━━━━━━━━━━┩\n",
       "│ embedding_5 (<span style=\"color: #0087ff; text-decoration-color: #0087ff\">Embedding</span>)         │ ?                      │   <span style=\"color: #00af00; text-decoration-color: #00af00\">0</span> (unbuilt) │\n",
       "└─────────────────────────────────┴────────────────────────┴───────────────┘\n",
       "</pre>\n"
      ],
      "text/plain": [
       "┏━━━━━━━━━━━━━━━━━━━━━━━━━━━━━━━━━┳━━━━━━━━━━━━━━━━━━━━━━━━┳━━━━━━━━━━━━━━━┓\n",
       "┃\u001b[1m \u001b[0m\u001b[1mLayer (type)                   \u001b[0m\u001b[1m \u001b[0m┃\u001b[1m \u001b[0m\u001b[1mOutput Shape          \u001b[0m\u001b[1m \u001b[0m┃\u001b[1m \u001b[0m\u001b[1m      Param #\u001b[0m\u001b[1m \u001b[0m┃\n",
       "┡━━━━━━━━━━━━━━━━━━━━━━━━━━━━━━━━━╇━━━━━━━━━━━━━━━━━━━━━━━━╇━━━━━━━━━━━━━━━┩\n",
       "│ embedding_5 (\u001b[38;5;33mEmbedding\u001b[0m)         │ ?                      │   \u001b[38;5;34m0\u001b[0m (unbuilt) │\n",
       "└─────────────────────────────────┴────────────────────────┴───────────────┘\n"
      ]
     },
     "metadata": {},
     "output_type": "display_data"
    },
    {
     "data": {
      "text/html": [
       "<pre style=\"white-space:pre;overflow-x:auto;line-height:normal;font-family:Menlo,'DejaVu Sans Mono',consolas,'Courier New',monospace\"><span style=\"font-weight: bold\"> Total params: </span><span style=\"color: #00af00; text-decoration-color: #00af00\">0</span> (0.00 B)\n",
       "</pre>\n"
      ],
      "text/plain": [
       "\u001b[1m Total params: \u001b[0m\u001b[38;5;34m0\u001b[0m (0.00 B)\n"
      ]
     },
     "metadata": {},
     "output_type": "display_data"
    },
    {
     "data": {
      "text/html": [
       "<pre style=\"white-space:pre;overflow-x:auto;line-height:normal;font-family:Menlo,'DejaVu Sans Mono',consolas,'Courier New',monospace\"><span style=\"font-weight: bold\"> Trainable params: </span><span style=\"color: #00af00; text-decoration-color: #00af00\">0</span> (0.00 B)\n",
       "</pre>\n"
      ],
      "text/plain": [
       "\u001b[1m Trainable params: \u001b[0m\u001b[38;5;34m0\u001b[0m (0.00 B)\n"
      ]
     },
     "metadata": {},
     "output_type": "display_data"
    },
    {
     "data": {
      "text/html": [
       "<pre style=\"white-space:pre;overflow-x:auto;line-height:normal;font-family:Menlo,'DejaVu Sans Mono',consolas,'Courier New',monospace\"><span style=\"font-weight: bold\"> Non-trainable params: </span><span style=\"color: #00af00; text-decoration-color: #00af00\">0</span> (0.00 B)\n",
       "</pre>\n"
      ],
      "text/plain": [
       "\u001b[1m Non-trainable params: \u001b[0m\u001b[38;5;34m0\u001b[0m (0.00 B)\n"
      ]
     },
     "metadata": {},
     "output_type": "display_data"
    }
   ],
   "source": [
    "model.summary()"
   ]
  },
  {
   "cell_type": "code",
   "execution_count": 37,
   "id": "58920548",
   "metadata": {},
   "outputs": [
    {
     "data": {
      "text/plain": [
       "array([  0,   0,   0,   0, 414,  49, 486, 117])"
      ]
     },
     "execution_count": 37,
     "metadata": {},
     "output_type": "execute_result"
    }
   ],
   "source": [
    "embedded_doc[0]"
   ]
  },
  {
   "cell_type": "code",
   "execution_count": 38,
   "id": "e399cf11",
   "metadata": {},
   "outputs": [
    {
     "name": "stdout",
     "output_type": "stream",
     "text": [
      "\u001b[1m1/1\u001b[0m \u001b[32m━━━━━━━━━━━━━━━━━━━━\u001b[0m\u001b[37m\u001b[0m \u001b[1m1s\u001b[0m 757ms/step\n",
      "[[[ 0.00266875  0.03255277 -0.04025984  0.0240261   0.0389745\n",
      "   -0.04191992  0.000473    0.00957678  0.00560206 -0.04640858]\n",
      "  [ 0.00266875  0.03255277 -0.04025984  0.0240261   0.0389745\n",
      "   -0.04191992  0.000473    0.00957678  0.00560206 -0.04640858]\n",
      "  [ 0.00266875  0.03255277 -0.04025984  0.0240261   0.0389745\n",
      "   -0.04191992  0.000473    0.00957678  0.00560206 -0.04640858]\n",
      "  [ 0.00266875  0.03255277 -0.04025984  0.0240261   0.0389745\n",
      "   -0.04191992  0.000473    0.00957678  0.00560206 -0.04640858]\n",
      "  [ 0.02264689  0.04928073  0.03313137 -0.03283749  0.0261916\n",
      "   -0.01794715 -0.01793488  0.01150024  0.03117755  0.0224165 ]\n",
      "  [ 0.03150551 -0.01856704  0.02540919 -0.0039235  -0.01070295\n",
      "    0.03588111 -0.02603722  0.02146127 -0.00918783  0.02040936]\n",
      "  [-0.02919588 -0.00597842 -0.02951008 -0.00926619  0.01832988\n",
      "   -0.02794929 -0.04598344  0.01089153  0.02169421  0.00302304]\n",
      "  [ 0.02983144 -0.04743505  0.0081872   0.0477138  -0.03170139\n",
      "    0.02540473 -0.01279021 -0.02441168  0.03313143 -0.00531139]]\n",
      "\n",
      " [[ 0.00266875  0.03255277 -0.04025984  0.0240261   0.0389745\n",
      "   -0.04191992  0.000473    0.00957678  0.00560206 -0.04640858]\n",
      "  [ 0.00266875  0.03255277 -0.04025984  0.0240261   0.0389745\n",
      "   -0.04191992  0.000473    0.00957678  0.00560206 -0.04640858]\n",
      "  [ 0.00266875  0.03255277 -0.04025984  0.0240261   0.0389745\n",
      "   -0.04191992  0.000473    0.00957678  0.00560206 -0.04640858]\n",
      "  [ 0.00266875  0.03255277 -0.04025984  0.0240261   0.0389745\n",
      "   -0.04191992  0.000473    0.00957678  0.00560206 -0.04640858]\n",
      "  [ 0.02264689  0.04928073  0.03313137 -0.03283749  0.0261916\n",
      "   -0.01794715 -0.01793488  0.01150024  0.03117755  0.0224165 ]\n",
      "  [ 0.03150551 -0.01856704  0.02540919 -0.0039235  -0.01070295\n",
      "    0.03588111 -0.02603722  0.02146127 -0.00918783  0.02040936]\n",
      "  [-0.02919588 -0.00597842 -0.02951008 -0.00926619  0.01832988\n",
      "   -0.02794929 -0.04598344  0.01089153  0.02169421  0.00302304]\n",
      "  [ 0.04978002  0.03866497  0.01239602 -0.01660435 -0.0298636\n",
      "   -0.00228523  0.02493808  0.03409727 -0.04487899 -0.01624454]]\n",
      "\n",
      " [[ 0.00266875  0.03255277 -0.04025984  0.0240261   0.0389745\n",
      "   -0.04191992  0.000473    0.00957678  0.00560206 -0.04640858]\n",
      "  [ 0.00266875  0.03255277 -0.04025984  0.0240261   0.0389745\n",
      "   -0.04191992  0.000473    0.00957678  0.00560206 -0.04640858]\n",
      "  [ 0.00266875  0.03255277 -0.04025984  0.0240261   0.0389745\n",
      "   -0.04191992  0.000473    0.00957678  0.00560206 -0.04640858]\n",
      "  [ 0.00266875  0.03255277 -0.04025984  0.0240261   0.0389745\n",
      "   -0.04191992  0.000473    0.00957678  0.00560206 -0.04640858]\n",
      "  [ 0.02264689  0.04928073  0.03313137 -0.03283749  0.0261916\n",
      "   -0.01794715 -0.01793488  0.01150024  0.03117755  0.0224165 ]\n",
      "  [-0.02037123 -0.04887364 -0.02570684 -0.01948007 -0.02505431\n",
      "   -0.01524926 -0.00951079 -0.01410828 -0.02264258 -0.0266771 ]\n",
      "  [-0.02919588 -0.00597842 -0.02951008 -0.00926619  0.01832988\n",
      "   -0.02794929 -0.04598344  0.01089153  0.02169421  0.00302304]\n",
      "  [-0.00753576 -0.00112492  0.01969733 -0.0395271   0.03754194\n",
      "    0.00184308  0.03346164 -0.0318535   0.03100273 -0.01802324]]\n",
      "\n",
      " [[ 0.00266875  0.03255277 -0.04025984  0.0240261   0.0389745\n",
      "   -0.04191992  0.000473    0.00957678  0.00560206 -0.04640858]\n",
      "  [ 0.00266875  0.03255277 -0.04025984  0.0240261   0.0389745\n",
      "   -0.04191992  0.000473    0.00957678  0.00560206 -0.04640858]\n",
      "  [ 0.00266875  0.03255277 -0.04025984  0.0240261   0.0389745\n",
      "   -0.04191992  0.000473    0.00957678  0.00560206 -0.04640858]\n",
      "  [ 0.03113326  0.00794302  0.00744492  0.04227472  0.02480883\n",
      "    0.03816159 -0.01859923 -0.04760557 -0.04112015 -0.00155388]\n",
      "  [-0.00677382 -0.03091228  0.01972755 -0.02613549 -0.01784687\n",
      "   -0.00504109  0.01789197  0.00721871  0.04327938 -0.04011007]\n",
      "  [ 0.03576696  0.04299838  0.02912441  0.01337161 -0.00316935\n",
      "    0.0134095  -0.02012235  0.04606291  0.00798619  0.00215681]\n",
      "  [ 0.04025194 -0.03619082  0.04858268 -0.01495897 -0.01328271\n",
      "   -0.02894174 -0.02496139 -0.02303546 -0.01811832 -0.02650749]\n",
      "  [ 0.04187716  0.00193604 -0.02551693 -0.02612126  0.02697562\n",
      "    0.02505395 -0.0044979   0.00269576 -0.02845206 -0.02517135]]\n",
      "\n",
      " [[ 0.00266875  0.03255277 -0.04025984  0.0240261   0.0389745\n",
      "   -0.04191992  0.000473    0.00957678  0.00560206 -0.04640858]\n",
      "  [ 0.00266875  0.03255277 -0.04025984  0.0240261   0.0389745\n",
      "   -0.04191992  0.000473    0.00957678  0.00560206 -0.04640858]\n",
      "  [ 0.00266875  0.03255277 -0.04025984  0.0240261   0.0389745\n",
      "   -0.04191992  0.000473    0.00957678  0.00560206 -0.04640858]\n",
      "  [ 0.03113326  0.00794302  0.00744492  0.04227472  0.02480883\n",
      "    0.03816159 -0.01859923 -0.04760557 -0.04112015 -0.00155388]\n",
      "  [-0.00677382 -0.03091228  0.01972755 -0.02613549 -0.01784687\n",
      "   -0.00504109  0.01789197  0.00721871  0.04327938 -0.04011007]\n",
      "  [ 0.03576696  0.04299838  0.02912441  0.01337161 -0.00316935\n",
      "    0.0134095  -0.02012235  0.04606291  0.00798619  0.00215681]\n",
      "  [ 0.04025194 -0.03619082  0.04858268 -0.01495897 -0.01328271\n",
      "   -0.02894174 -0.02496139 -0.02303546 -0.01811832 -0.02650749]\n",
      "  [-0.01898271  0.00581815 -0.00491731 -0.01658424  0.03903563\n",
      "   -0.02599216  0.02929801 -0.01191329 -0.01220335  0.00414727]]\n",
      "\n",
      " [[ 0.00266875  0.03255277 -0.04025984  0.0240261   0.0389745\n",
      "   -0.04191992  0.000473    0.00957678  0.00560206 -0.04640858]\n",
      "  [ 0.00266875  0.03255277 -0.04025984  0.0240261   0.0389745\n",
      "   -0.04191992  0.000473    0.00957678  0.00560206 -0.04640858]\n",
      "  [ 0.00266875  0.03255277 -0.04025984  0.0240261   0.0389745\n",
      "   -0.04191992  0.000473    0.00957678  0.00560206 -0.04640858]\n",
      "  [ 0.02217369  0.0443177   0.04155246  0.04476632 -0.0026394\n",
      "   -0.01280068 -0.04387182  0.00510911  0.03256415  0.00929888]\n",
      "  [ 0.02264689  0.04928073  0.03313137 -0.03283749  0.0261916\n",
      "   -0.01794715 -0.01793488  0.01150024  0.03117755  0.0224165 ]\n",
      "  [-0.00629463  0.03164252  0.00017999  0.0095333   0.00863598\n",
      "   -0.04476252  0.0434199  -0.04281985 -0.04555867 -0.01005316]\n",
      "  [-0.02919588 -0.00597842 -0.02951008 -0.00926619  0.01832988\n",
      "   -0.02794929 -0.04598344  0.01089153  0.02169421  0.00302304]\n",
      "  [-0.02037123 -0.04887364 -0.02570684 -0.01948007 -0.02505431\n",
      "   -0.01524926 -0.00951079 -0.01410828 -0.02264258 -0.0266771 ]]\n",
      "\n",
      " [[ 0.00266875  0.03255277 -0.04025984  0.0240261   0.0389745\n",
      "   -0.04191992  0.000473    0.00957678  0.00560206 -0.04640858]\n",
      "  [ 0.00266875  0.03255277 -0.04025984  0.0240261   0.0389745\n",
      "   -0.04191992  0.000473    0.00957678  0.00560206 -0.04640858]\n",
      "  [ 0.00266875  0.03255277 -0.04025984  0.0240261   0.0389745\n",
      "   -0.04191992  0.000473    0.00957678  0.00560206 -0.04640858]\n",
      "  [ 0.00266875  0.03255277 -0.04025984  0.0240261   0.0389745\n",
      "   -0.04191992  0.000473    0.00957678  0.00560206 -0.04640858]\n",
      "  [-0.02673465  0.02319214 -0.04282872  0.04500217 -0.01903343\n",
      "   -0.02501634 -0.00605785 -0.00692358 -0.03677502  0.03360449]\n",
      "  [ 0.02980329 -0.01243388  0.0092989   0.01853517  0.0367582\n",
      "    0.04619488  0.01919616 -0.0290655  -0.04507658 -0.02802241]\n",
      "  [-0.04708353  0.03873854 -0.03510001 -0.00684098  0.00418413\n",
      "   -0.03217011  0.00096474  0.00208607  0.00171956  0.00494474]\n",
      "  [ 0.04025194 -0.03619082  0.04858268 -0.01495897 -0.01328271\n",
      "   -0.02894174 -0.02496139 -0.02303546 -0.01811832 -0.02650749]]]\n"
     ]
    }
   ],
   "source": [
    "print(model.predict(embedded_doc))"
   ]
  },
  {
   "cell_type": "code",
   "execution_count": 39,
   "id": "2ea58902",
   "metadata": {},
   "outputs": [],
   "source": [
    "### Assignment\n",
    "\n",
    "sent=[\"The world is a better place\",\n",
    "      \"Marvel series is my favourite movie\",\n",
    "      \"I like DC movies\",\n",
    "      \"the cat is eating the food\",\n",
    "      \"Tom and Jerry is my favourite movie\",\n",
    "      \"Python is my favourite programming language\"\n",
    "      ]"
   ]
  },
  {
   "cell_type": "code",
   "execution_count": 41,
   "id": "c7a0c2b1",
   "metadata": {},
   "outputs": [
    {
     "name": "stdout",
     "output_type": "stream",
     "text": [
      "[[414, 404, 209, 179, 61, 134], [353, 434, 209, 298, 89, 326], [203, 271, 460, 447], [414, 455, 209, 368, 414, 410], [434, 67, 343, 209, 298, 89, 326], [253, 209, 298, 89, 427, 374]]\n"
     ]
    }
   ],
   "source": [
    "one_h=[one_hot(words,voc_size)for words in sent]\n",
    "print(one_h)"
   ]
  },
  {
   "cell_type": "code",
   "execution_count": 44,
   "id": "4cee814f",
   "metadata": {},
   "outputs": [
    {
     "data": {
      "text/plain": [
       "array([[  0,   0, 414, 404, 209, 179,  61, 134],\n",
       "       [  0,   0, 353, 434, 209, 298,  89, 326],\n",
       "       [  0,   0,   0,   0, 203, 271, 460, 447],\n",
       "       [  0,   0, 414, 455, 209, 368, 414, 410],\n",
       "       [  0, 434,  67, 343, 209, 298,  89, 326],\n",
       "       [  0,   0, 253, 209, 298,  89, 427, 374]])"
      ]
     },
     "execution_count": 44,
     "metadata": {},
     "output_type": "execute_result"
    }
   ],
   "source": [
    "sent_len=8\n",
    "embedded_docs=pad_sequences(one_h,padding='pre',maxlen=sent_len)\n",
    "embedded_docs"
   ]
  },
  {
   "cell_type": "code",
   "execution_count": 46,
   "id": "8b77f7c9",
   "metadata": {},
   "outputs": [],
   "source": [
    "model1=Sequential()\n",
    "model1.add(Embedding(voc_size,10))\n",
    "model1.compile('adam','mse')"
   ]
  },
  {
   "cell_type": "code",
   "execution_count": 47,
   "id": "181ffc98",
   "metadata": {},
   "outputs": [
    {
     "data": {
      "text/html": [
       "<pre style=\"white-space:pre;overflow-x:auto;line-height:normal;font-family:Menlo,'DejaVu Sans Mono',consolas,'Courier New',monospace\"><span style=\"font-weight: bold\">Model: \"sequential_5\"</span>\n",
       "</pre>\n"
      ],
      "text/plain": [
       "\u001b[1mModel: \"sequential_5\"\u001b[0m\n"
      ]
     },
     "metadata": {},
     "output_type": "display_data"
    },
    {
     "data": {
      "text/html": [
       "<pre style=\"white-space:pre;overflow-x:auto;line-height:normal;font-family:Menlo,'DejaVu Sans Mono',consolas,'Courier New',monospace\">┏━━━━━━━━━━━━━━━━━━━━━━━━━━━━━━━━━┳━━━━━━━━━━━━━━━━━━━━━━━━┳━━━━━━━━━━━━━━━┓\n",
       "┃<span style=\"font-weight: bold\"> Layer (type)                    </span>┃<span style=\"font-weight: bold\"> Output Shape           </span>┃<span style=\"font-weight: bold\">       Param # </span>┃\n",
       "┡━━━━━━━━━━━━━━━━━━━━━━━━━━━━━━━━━╇━━━━━━━━━━━━━━━━━━━━━━━━╇━━━━━━━━━━━━━━━┩\n",
       "│ embedding_5 (<span style=\"color: #0087ff; text-decoration-color: #0087ff\">Embedding</span>)         │ (<span style=\"color: #00af00; text-decoration-color: #00af00\">7</span>, <span style=\"color: #00af00; text-decoration-color: #00af00\">8</span>, <span style=\"color: #00af00; text-decoration-color: #00af00\">10</span>)             │         <span style=\"color: #00af00; text-decoration-color: #00af00\">5,000</span> │\n",
       "└─────────────────────────────────┴────────────────────────┴───────────────┘\n",
       "</pre>\n"
      ],
      "text/plain": [
       "┏━━━━━━━━━━━━━━━━━━━━━━━━━━━━━━━━━┳━━━━━━━━━━━━━━━━━━━━━━━━┳━━━━━━━━━━━━━━━┓\n",
       "┃\u001b[1m \u001b[0m\u001b[1mLayer (type)                   \u001b[0m\u001b[1m \u001b[0m┃\u001b[1m \u001b[0m\u001b[1mOutput Shape          \u001b[0m\u001b[1m \u001b[0m┃\u001b[1m \u001b[0m\u001b[1m      Param #\u001b[0m\u001b[1m \u001b[0m┃\n",
       "┡━━━━━━━━━━━━━━━━━━━━━━━━━━━━━━━━━╇━━━━━━━━━━━━━━━━━━━━━━━━╇━━━━━━━━━━━━━━━┩\n",
       "│ embedding_5 (\u001b[38;5;33mEmbedding\u001b[0m)         │ (\u001b[38;5;34m7\u001b[0m, \u001b[38;5;34m8\u001b[0m, \u001b[38;5;34m10\u001b[0m)             │         \u001b[38;5;34m5,000\u001b[0m │\n",
       "└─────────────────────────────────┴────────────────────────┴───────────────┘\n"
      ]
     },
     "metadata": {},
     "output_type": "display_data"
    },
    {
     "data": {
      "text/html": [
       "<pre style=\"white-space:pre;overflow-x:auto;line-height:normal;font-family:Menlo,'DejaVu Sans Mono',consolas,'Courier New',monospace\"><span style=\"font-weight: bold\"> Total params: </span><span style=\"color: #00af00; text-decoration-color: #00af00\">5,000</span> (19.53 KB)\n",
       "</pre>\n"
      ],
      "text/plain": [
       "\u001b[1m Total params: \u001b[0m\u001b[38;5;34m5,000\u001b[0m (19.53 KB)\n"
      ]
     },
     "metadata": {},
     "output_type": "display_data"
    },
    {
     "data": {
      "text/html": [
       "<pre style=\"white-space:pre;overflow-x:auto;line-height:normal;font-family:Menlo,'DejaVu Sans Mono',consolas,'Courier New',monospace\"><span style=\"font-weight: bold\"> Trainable params: </span><span style=\"color: #00af00; text-decoration-color: #00af00\">5,000</span> (19.53 KB)\n",
       "</pre>\n"
      ],
      "text/plain": [
       "\u001b[1m Trainable params: \u001b[0m\u001b[38;5;34m5,000\u001b[0m (19.53 KB)\n"
      ]
     },
     "metadata": {},
     "output_type": "display_data"
    },
    {
     "data": {
      "text/html": [
       "<pre style=\"white-space:pre;overflow-x:auto;line-height:normal;font-family:Menlo,'DejaVu Sans Mono',consolas,'Courier New',monospace\"><span style=\"font-weight: bold\"> Non-trainable params: </span><span style=\"color: #00af00; text-decoration-color: #00af00\">0</span> (0.00 B)\n",
       "</pre>\n"
      ],
      "text/plain": [
       "\u001b[1m Non-trainable params: \u001b[0m\u001b[38;5;34m0\u001b[0m (0.00 B)\n"
      ]
     },
     "metadata": {},
     "output_type": "display_data"
    }
   ],
   "source": [
    "model.summary()\n"
   ]
  },
  {
   "cell_type": "code",
   "execution_count": 49,
   "id": "690e901a",
   "metadata": {},
   "outputs": [
    {
     "name": "stdout",
     "output_type": "stream",
     "text": [
      "\u001b[1m1/1\u001b[0m \u001b[32m━━━━━━━━━━━━━━━━━━━━\u001b[0m\u001b[37m\u001b[0m \u001b[1m0s\u001b[0m 232ms/step\n"
     ]
    },
    {
     "data": {
      "text/plain": [
       "array([[[ 2.6687495e-03,  3.2552768e-02, -4.0259838e-02,  2.4026100e-02,\n",
       "          3.8974497e-02, -4.1919924e-02,  4.7300011e-04,  9.5767751e-03,\n",
       "          5.6020617e-03, -4.6408582e-02],\n",
       "        [ 2.6687495e-03,  3.2552768e-02, -4.0259838e-02,  2.4026100e-02,\n",
       "          3.8974497e-02, -4.1919924e-02,  4.7300011e-04,  9.5767751e-03,\n",
       "          5.6020617e-03, -4.6408582e-02],\n",
       "        [ 2.2646893e-02,  4.9280729e-02,  3.3131372e-02, -3.2837488e-02,\n",
       "          2.6191603e-02, -1.7947149e-02, -1.7934881e-02,  1.1500239e-02,\n",
       "          3.1177547e-02,  2.2416499e-02],\n",
       "        [ 3.1517897e-02,  1.5173111e-02,  3.5823356e-02, -1.6163230e-02,\n",
       "          1.5589584e-02,  3.6471892e-02, -3.9093256e-02, -7.2243921e-03,\n",
       "         -4.6100244e-03,  8.4027424e-03],\n",
       "        [-1.6003001e-02,  2.7172450e-02,  2.6603866e-02, -4.7652103e-02,\n",
       "         -3.7470937e-02, -4.5784127e-02, -3.9107479e-02,  6.2841885e-03,\n",
       "          5.0613396e-03, -2.2500642e-03],\n",
       "        [ 3.5766963e-02,  4.2998385e-02,  2.9124413e-02,  1.3371613e-02,\n",
       "         -3.1693466e-03,  1.3409499e-02, -2.0122349e-02,  4.6062913e-02,\n",
       "          7.9861879e-03,  2.1568052e-03],\n",
       "        [ 8.3869584e-03, -9.4990022e-03, -1.2004960e-02,  4.9073566e-02,\n",
       "         -4.3683805e-02, -3.9502360e-02, -4.3269899e-02, -3.4738332e-05,\n",
       "          1.6219798e-02,  4.7658566e-02],\n",
       "        [-4.8624389e-03, -3.6239684e-02,  3.8921859e-02,  4.0040884e-02,\n",
       "         -3.4435131e-02,  2.8202310e-03, -1.7555140e-02,  3.6646258e-02,\n",
       "          1.2236774e-02, -4.6214558e-02]],\n",
       "\n",
       "       [[ 2.6687495e-03,  3.2552768e-02, -4.0259838e-02,  2.4026100e-02,\n",
       "          3.8974497e-02, -4.1919924e-02,  4.7300011e-04,  9.5767751e-03,\n",
       "          5.6020617e-03, -4.6408582e-02],\n",
       "        [ 2.6687495e-03,  3.2552768e-02, -4.0259838e-02,  2.4026100e-02,\n",
       "          3.8974497e-02, -4.1919924e-02,  4.7300011e-04,  9.5767751e-03,\n",
       "          5.6020617e-03, -4.6408582e-02],\n",
       "        [-1.8866837e-02,  4.8765246e-02,  8.7508671e-03,  3.1098578e-02,\n",
       "          6.4175352e-03, -5.5506118e-03, -4.8905995e-02, -1.3462447e-02,\n",
       "          4.9466077e-02,  1.4114864e-03],\n",
       "        [ 4.9780022e-02,  3.8664971e-02,  1.2396015e-02, -1.6604353e-02,\n",
       "         -2.9863596e-02, -2.2852309e-03,  2.4938080e-02,  3.4097265e-02,\n",
       "         -4.4878986e-02, -1.6244542e-02],\n",
       "        [-1.6003001e-02,  2.7172450e-02,  2.6603866e-02, -4.7652103e-02,\n",
       "         -3.7470937e-02, -4.5784127e-02, -3.9107479e-02,  6.2841885e-03,\n",
       "          5.0613396e-03, -2.2500642e-03],\n",
       "        [-3.5022259e-02, -3.8070083e-02, -5.5256002e-03,  3.5690691e-02,\n",
       "          4.0026452e-02, -4.2726662e-02,  3.6995266e-02,  1.6756941e-02,\n",
       "          4.1296210e-02,  5.5134296e-03],\n",
       "        [ 7.0656911e-03,  3.7253920e-02,  8.1832409e-03,  2.0593893e-02,\n",
       "         -1.7888941e-02,  3.4582961e-02, -4.2403378e-02,  4.2393912e-02,\n",
       "         -8.8454373e-03, -2.8936673e-02],\n",
       "        [ 2.1666411e-02, -1.2739945e-02,  4.7708575e-02, -2.1808757e-02,\n",
       "         -2.3097051e-02,  4.4667963e-02,  4.8115324e-02,  6.0534589e-03,\n",
       "         -1.5937306e-02,  4.0751304e-02]],\n",
       "\n",
       "       [[ 2.6687495e-03,  3.2552768e-02, -4.0259838e-02,  2.4026100e-02,\n",
       "          3.8974497e-02, -4.1919924e-02,  4.7300011e-04,  9.5767751e-03,\n",
       "          5.6020617e-03, -4.6408582e-02],\n",
       "        [ 2.6687495e-03,  3.2552768e-02, -4.0259838e-02,  2.4026100e-02,\n",
       "          3.8974497e-02, -4.1919924e-02,  4.7300011e-04,  9.5767751e-03,\n",
       "          5.6020617e-03, -4.6408582e-02],\n",
       "        [ 2.6687495e-03,  3.2552768e-02, -4.0259838e-02,  2.4026100e-02,\n",
       "          3.8974497e-02, -4.1919924e-02,  4.7300011e-04,  9.5767751e-03,\n",
       "          5.6020617e-03, -4.6408582e-02],\n",
       "        [ 2.6687495e-03,  3.2552768e-02, -4.0259838e-02,  2.4026100e-02,\n",
       "          3.8974497e-02, -4.1919924e-02,  4.7300011e-04,  9.5767751e-03,\n",
       "          5.6020617e-03, -4.6408582e-02],\n",
       "        [ 3.1133261e-02,  7.9430230e-03,  7.4449182e-03,  4.2274717e-02,\n",
       "          2.4808828e-02,  3.8161587e-02, -1.8599235e-02, -4.7605574e-02,\n",
       "         -4.1120149e-02, -1.5538819e-03],\n",
       "        [ 3.4344483e-02,  3.5679452e-03, -5.2919388e-03,  2.6372161e-02,\n",
       "         -1.1213683e-02,  2.0543251e-02,  3.4473564e-02,  3.7196148e-02,\n",
       "         -4.7441758e-02, -4.1642509e-02],\n",
       "        [-3.0728614e-02, -2.4180651e-02,  3.7229631e-02,  4.6278547e-02,\n",
       "         -1.2341678e-02,  2.7496923e-02, -4.4286050e-02,  4.3914590e-02,\n",
       "         -3.1471744e-02, -4.3422379e-02],\n",
       "        [ 3.5611503e-03,  3.2295894e-02,  1.3745274e-02, -1.8499304e-02,\n",
       "         -2.2792554e-02, -4.6622124e-02,  2.3525406e-02, -4.1036427e-02,\n",
       "          1.2794647e-02,  2.9104259e-02]],\n",
       "\n",
       "       [[ 2.6687495e-03,  3.2552768e-02, -4.0259838e-02,  2.4026100e-02,\n",
       "          3.8974497e-02, -4.1919924e-02,  4.7300011e-04,  9.5767751e-03,\n",
       "          5.6020617e-03, -4.6408582e-02],\n",
       "        [ 2.6687495e-03,  3.2552768e-02, -4.0259838e-02,  2.4026100e-02,\n",
       "          3.8974497e-02, -4.1919924e-02,  4.7300011e-04,  9.5767751e-03,\n",
       "          5.6020617e-03, -4.6408582e-02],\n",
       "        [ 2.2646893e-02,  4.9280729e-02,  3.3131372e-02, -3.2837488e-02,\n",
       "          2.6191603e-02, -1.7947149e-02, -1.7934881e-02,  1.1500239e-02,\n",
       "          3.1177547e-02,  2.2416499e-02],\n",
       "        [-4.0811408e-02, -4.0953644e-03,  3.9163735e-02, -3.6326796e-04,\n",
       "          1.5140664e-02, -3.1524524e-03, -1.5016269e-02, -4.7968697e-02,\n",
       "          1.6818587e-02, -2.3042703e-02],\n",
       "        [-1.6003001e-02,  2.7172450e-02,  2.6603866e-02, -4.7652103e-02,\n",
       "         -3.7470937e-02, -4.5784127e-02, -3.9107479e-02,  6.2841885e-03,\n",
       "          5.0613396e-03, -2.2500642e-03],\n",
       "        [ 1.6230430e-02, -4.7709990e-02, -4.0780295e-02,  2.4747755e-02,\n",
       "          1.6647343e-02,  3.8564395e-02, -3.4657232e-03, -2.1898031e-02,\n",
       "          4.8486177e-02, -3.1854488e-02],\n",
       "        [ 2.2646893e-02,  4.9280729e-02,  3.3131372e-02, -3.2837488e-02,\n",
       "          2.6191603e-02, -1.7947149e-02, -1.7934881e-02,  1.1500239e-02,\n",
       "          3.1177547e-02,  2.2416499e-02],\n",
       "        [-1.8207632e-02,  3.8908888e-02,  3.2185923e-02,  3.8121093e-02,\n",
       "          4.7243748e-02,  2.5188241e-02,  2.5455926e-02, -3.2346010e-02,\n",
       "          5.0525777e-03, -5.8177821e-03]],\n",
       "\n",
       "       [[ 2.6687495e-03,  3.2552768e-02, -4.0259838e-02,  2.4026100e-02,\n",
       "          3.8974497e-02, -4.1919924e-02,  4.7300011e-04,  9.5767751e-03,\n",
       "          5.6020617e-03, -4.6408582e-02],\n",
       "        [ 4.9780022e-02,  3.8664971e-02,  1.2396015e-02, -1.6604353e-02,\n",
       "         -2.9863596e-02, -2.2852309e-03,  2.4938080e-02,  3.4097265e-02,\n",
       "         -4.4878986e-02, -1.6244542e-02],\n",
       "        [ 4.3761376e-02,  4.1127205e-03, -2.9523099e-02,  7.1535110e-03,\n",
       "         -4.2768206e-02, -3.1289913e-02, -2.1218395e-02, -3.0548684e-03,\n",
       "         -8.9655742e-03,  4.7287468e-02],\n",
       "        [ 2.4010543e-02,  3.2292012e-02,  4.8117880e-02, -4.0484715e-02,\n",
       "         -3.8980186e-02, -2.9352034e-02, -2.7564991e-02,  6.8835504e-03,\n",
       "          4.4159357e-02, -1.9785320e-02],\n",
       "        [-1.6003001e-02,  2.7172450e-02,  2.6603866e-02, -4.7652103e-02,\n",
       "         -3.7470937e-02, -4.5784127e-02, -3.9107479e-02,  6.2841885e-03,\n",
       "          5.0613396e-03, -2.2500642e-03],\n",
       "        [-3.5022259e-02, -3.8070083e-02, -5.5256002e-03,  3.5690691e-02,\n",
       "          4.0026452e-02, -4.2726662e-02,  3.6995266e-02,  1.6756941e-02,\n",
       "          4.1296210e-02,  5.5134296e-03],\n",
       "        [ 7.0656911e-03,  3.7253920e-02,  8.1832409e-03,  2.0593893e-02,\n",
       "         -1.7888941e-02,  3.4582961e-02, -4.2403378e-02,  4.2393912e-02,\n",
       "         -8.8454373e-03, -2.8936673e-02],\n",
       "        [ 2.1666411e-02, -1.2739945e-02,  4.7708575e-02, -2.1808757e-02,\n",
       "         -2.3097051e-02,  4.4667963e-02,  4.8115324e-02,  6.0534589e-03,\n",
       "         -1.5937306e-02,  4.0751304e-02]],\n",
       "\n",
       "       [[ 2.6687495e-03,  3.2552768e-02, -4.0259838e-02,  2.4026100e-02,\n",
       "          3.8974497e-02, -4.1919924e-02,  4.7300011e-04,  9.5767751e-03,\n",
       "          5.6020617e-03, -4.6408582e-02],\n",
       "        [ 2.6687495e-03,  3.2552768e-02, -4.0259838e-02,  2.4026100e-02,\n",
       "          3.8974497e-02, -4.1919924e-02,  4.7300011e-04,  9.5767751e-03,\n",
       "          5.6020617e-03, -4.6408582e-02],\n",
       "        [-2.7569747e-02, -4.1242458e-02, -4.0368605e-02,  3.6964688e-02,\n",
       "          4.6489015e-03,  2.4101261e-02, -3.4283757e-02,  2.2550393e-02,\n",
       "          1.2461115e-02, -3.4283996e-02],\n",
       "        [-1.6003001e-02,  2.7172450e-02,  2.6603866e-02, -4.7652103e-02,\n",
       "         -3.7470937e-02, -4.5784127e-02, -3.9107479e-02,  6.2841885e-03,\n",
       "          5.0613396e-03, -2.2500642e-03],\n",
       "        [-3.5022259e-02, -3.8070083e-02, -5.5256002e-03,  3.5690691e-02,\n",
       "          4.0026452e-02, -4.2726662e-02,  3.6995266e-02,  1.6756941e-02,\n",
       "          4.1296210e-02,  5.5134296e-03],\n",
       "        [ 7.0656911e-03,  3.7253920e-02,  8.1832409e-03,  2.0593893e-02,\n",
       "         -1.7888941e-02,  3.4582961e-02, -4.2403378e-02,  4.2393912e-02,\n",
       "         -8.8454373e-03, -2.8936673e-02],\n",
       "        [ 4.5055036e-02,  4.1460697e-02,  9.3625858e-04,  1.4083609e-03,\n",
       "         -3.1865202e-02,  3.4763347e-02,  6.3497908e-03,  8.2849972e-03,\n",
       "          2.1980431e-02, -2.5536692e-02],\n",
       "        [ 2.1639336e-02,  1.0261439e-02, -2.7601516e-02, -2.7716160e-05,\n",
       "         -2.7402295e-02, -7.8050047e-04, -1.3372675e-03, -1.9939430e-03,\n",
       "         -5.4440498e-03, -2.8434619e-03]]], dtype=float32)"
      ]
     },
     "execution_count": 49,
     "metadata": {},
     "output_type": "execute_result"
    }
   ],
   "source": [
    "model.predict(embedded_docs)"
   ]
  },
  {
   "cell_type": "code",
   "execution_count": null,
   "id": "a9f27c5f",
   "metadata": {},
   "outputs": [],
   "source": []
  }
 ],
 "metadata": {
  "kernelspec": {
   "display_name": "base",
   "language": "python",
   "name": "python3"
  },
  "language_info": {
   "codemirror_mode": {
    "name": "ipython",
    "version": 3
   },
   "file_extension": ".py",
   "mimetype": "text/x-python",
   "name": "python",
   "nbconvert_exporter": "python",
   "pygments_lexer": "ipython3",
   "version": "3.12.7"
  }
 },
 "nbformat": 4,
 "nbformat_minor": 5
}
