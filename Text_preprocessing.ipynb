{
 "cells": [
  {
   "cell_type": "markdown",
   "id": "ebdd34dd",
   "metadata": {},
   "source": [
    "Text Preprocessing "
   ]
  },
  {
   "cell_type": "markdown",
   "id": "cd6cb899",
   "metadata": {},
   "source": [
    "nltk library "
   ]
  },
  {
   "cell_type": "code",
   "execution_count": 6,
   "id": "db6bea36",
   "metadata": {},
   "outputs": [],
   "source": [
    "paragraph=\"\"\"Mahendra Singh Dhoni (/məˈheɪndrə ˈsɪŋ dhæˈnɪ/ ⓘ; born 7 July 1981) is an Indian professional cricketer who plays as a right-handed batter and a wicket-keeper. Widely regarded as one of the most prolific wicket-keeper batsmen and captains and one of the greatest ODI batsmen, he represented the Indian cricket team and was the captain of the side in limited overs formats from 2007 to 2017 and in test cricket from 2008 to 2014. Dhoni has captained the most international matches and is the most successful Indian captain. He has led India to victory in the 2007 ICC World Twenty20, the 2011 Cricket World Cup, and the 2013 ICC Champions Trophy, being the only captain to win three different limited overs ICC tournaments. He also led the teams that won the Asia Cup in 2010, 2016 and was a member of the title winning squad in 2018\"\"\""
   ]
  },
  {
   "cell_type": "code",
   "execution_count": null,
   "id": "10f3ab99",
   "metadata": {},
   "outputs": [],
   "source": []
  },
  {
   "cell_type": "code",
   "execution_count": 7,
   "id": "0e9a89f5",
   "metadata": {},
   "outputs": [],
   "source": [
    "import nltk\n",
    "from nltk.stem import PorterStemmer\n",
    "from nltk.corpus import stopwords"
   ]
  },
  {
   "cell_type": "code",
   "execution_count": 8,
   "id": "16e3bb5a",
   "metadata": {},
   "outputs": [
    {
     "name": "stdout",
     "output_type": "stream",
     "text": [
      "['C:\\\\Users\\\\huzef/nltk_data', 'c:\\\\Users\\\\huzef\\\\anaconda3\\\\nltk_data', 'c:\\\\Users\\\\huzef\\\\anaconda3\\\\share\\\\nltk_data', 'c:\\\\Users\\\\huzef\\\\anaconda3\\\\lib\\\\nltk_data', 'C:\\\\Users\\\\huzef\\\\AppData\\\\Roaming\\\\nltk_data', 'C:\\\\nltk_data', 'D:\\\\nltk_data', 'E:\\\\nltk_data']\n"
     ]
    }
   ],
   "source": [
    "print(nltk.data.path)"
   ]
  },
  {
   "cell_type": "code",
   "execution_count": 9,
   "id": "d113e692",
   "metadata": {},
   "outputs": [
    {
     "name": "stderr",
     "output_type": "stream",
     "text": [
      "[nltk_data] Downloading package punkt to\n",
      "[nltk_data]     c:\\Users\\huzef\\anaconda3\\nltk_data...\n",
      "[nltk_data]   Package punkt is already up-to-date!\n"
     ]
    },
    {
     "data": {
      "text/plain": [
       "True"
      ]
     },
     "execution_count": 9,
     "metadata": {},
     "output_type": "execute_result"
    }
   ],
   "source": [
    "nltk.download('punkt')\n"
   ]
  },
  {
   "cell_type": "code",
   "execution_count": 10,
   "id": "94852212",
   "metadata": {},
   "outputs": [],
   "source": [
    "## Tokenization\n",
    "sentence=nltk.sent_tokenize(paragraph)"
   ]
  },
  {
   "cell_type": "code",
   "execution_count": 11,
   "id": "03fc5118",
   "metadata": {},
   "outputs": [
    {
     "data": {
      "text/plain": [
       "['Mahendra Singh Dhoni (/məˈheɪndrə ˈsɪŋ dhæˈnɪ/ ⓘ; born 7 July 1981) is an Indian professional cricketer who plays as a right-handed batter and a wicket-keeper.',\n",
       " 'Widely regarded as one of the most prolific wicket-keeper batsmen and captains and one of the greatest ODI batsmen, he represented the Indian cricket team and was the captain of the side in limited overs formats from 2007 to 2017 and in test cricket from 2008 to 2014.',\n",
       " 'Dhoni has captained the most international matches and is the most successful Indian captain.',\n",
       " 'He has led India to victory in the 2007 ICC World Twenty20, the 2011 Cricket World Cup, and the 2013 ICC Champions Trophy, being the only captain to win three different limited overs ICC tournaments.',\n",
       " 'He also led the teams that won the Asia Cup in 2010, 2016 and was a member of the title winning squad in 2018']"
      ]
     },
     "execution_count": 11,
     "metadata": {},
     "output_type": "execute_result"
    }
   ],
   "source": [
    "sentence"
   ]
  },
  {
   "cell_type": "markdown",
   "id": "974f5899",
   "metadata": {},
   "source": [
    "Cleaning the Text\n"
   ]
  },
  {
   "cell_type": "code",
   "execution_count": 12,
   "id": "7c35bdfe",
   "metadata": {},
   "outputs": [],
   "source": [
    "import re"
   ]
  },
  {
   "cell_type": "code",
   "execution_count": 13,
   "id": "48da5c53",
   "metadata": {},
   "outputs": [
    {
     "data": {
      "text/plain": [
       "['mahendra singh dhoni   m  he ndr   s   dh  n      born   july       is an indian professional cricketer who plays as a right handed batter and a wicket keeper ',\n",
       " 'widely regarded as one of the most prolific wicket keeper batsmen and captains and one of the greatest odi batsmen  he represented the indian cricket team and was the captain of the side in limited overs formats from      to      and in test cricket from      to      ',\n",
       " 'dhoni has captained the most international matches and is the most successful indian captain ',\n",
       " 'he has led india to victory in the      icc world twenty    the      cricket world cup  and the      icc champions trophy  being the only captain to win three different limited overs icc tournaments ',\n",
       " 'he also led the teams that won the asia cup in            and was a member of the title winning squad in     ']"
      ]
     },
     "execution_count": 13,
     "metadata": {},
     "output_type": "execute_result"
    }
   ],
   "source": [
    "corpus=[]\n",
    "for i in range(len(sentence)):\n",
    "    review=re.sub('[^a-zA-Z]',' ',sentence[i])\n",
    "    review=review.lower()\n",
    "    corpus.append(review)\n",
    "corpus\n"
   ]
  },
  {
   "cell_type": "markdown",
   "id": "44a6b86b",
   "metadata": {},
   "source": [
    "Stemming"
   ]
  },
  {
   "cell_type": "code",
   "execution_count": 14,
   "id": "23a95240",
   "metadata": {},
   "outputs": [],
   "source": [
    "stemmer=PorterStemmer()\n"
   ]
  },
  {
   "cell_type": "markdown",
   "id": "644005f9",
   "metadata": {},
   "source": []
  },
  {
   "cell_type": "code",
   "execution_count": 15,
   "id": "e92f6b0c",
   "metadata": {},
   "outputs": [
    {
     "name": "stderr",
     "output_type": "stream",
     "text": [
      "[nltk_data] Downloading package stopwords to\n",
      "[nltk_data]     c:\\Users\\huzef\\anaconda3\\nltk_data...\n",
      "[nltk_data]   Package stopwords is already up-to-date!\n"
     ]
    },
    {
     "data": {
      "text/plain": [
       "True"
      ]
     },
     "execution_count": 15,
     "metadata": {},
     "output_type": "execute_result"
    }
   ],
   "source": [
    "import nltk\n",
    "nltk.download('stopwords')"
   ]
  },
  {
   "cell_type": "code",
   "execution_count": 16,
   "id": "f2c98761",
   "metadata": {},
   "outputs": [
    {
     "name": "stdout",
     "output_type": "stream",
     "text": [
      "mahendra\n",
      "singh\n",
      "dhoni\n",
      "ndr\n",
      "dh\n",
      "n\n",
      "born\n",
      "juli\n",
      "indian\n",
      "profession\n",
      "cricket\n",
      "play\n",
      "right\n",
      "hand\n",
      "batter\n",
      "wicket\n",
      "keeper\n",
      "wide\n",
      "regard\n",
      "one\n",
      "prolif\n",
      "wicket\n",
      "keeper\n",
      "batsmen\n",
      "captain\n",
      "one\n",
      "greatest\n",
      "odi\n",
      "batsmen\n",
      "repres\n",
      "indian\n",
      "cricket\n",
      "team\n",
      "captain\n",
      "side\n",
      "limit\n",
      "over\n",
      "format\n",
      "test\n",
      "cricket\n",
      "dhoni\n",
      "captain\n",
      "intern\n",
      "match\n",
      "success\n",
      "indian\n",
      "captain\n",
      "led\n",
      "india\n",
      "victori\n",
      "icc\n",
      "world\n",
      "twenti\n",
      "cricket\n",
      "world\n",
      "cup\n",
      "icc\n",
      "champion\n",
      "trophi\n",
      "captain\n",
      "win\n",
      "three\n",
      "differ\n",
      "limit\n",
      "over\n",
      "icc\n",
      "tournament\n",
      "also\n",
      "led\n",
      "team\n",
      "asia\n",
      "cup\n",
      "member\n",
      "titl\n",
      "win\n",
      "squad\n"
     ]
    }
   ],
   "source": [
    "for i in corpus:\n",
    "    words=nltk.word_tokenize(i)\n",
    "    for word in words:\n",
    "        if word not in set(stopwords.words('english')):\n",
    "            print(stemmer.stem(word))"
   ]
  },
  {
   "cell_type": "markdown",
   "id": "7174c932",
   "metadata": {},
   "source": [
    "Stopwords"
   ]
  },
  {
   "cell_type": "code",
   "execution_count": null,
   "id": "3517e703",
   "metadata": {},
   "outputs": [],
   "source": []
  },
  {
   "cell_type": "code",
   "execution_count": null,
   "id": "56aefdf7",
   "metadata": {},
   "outputs": [],
   "source": []
  },
  {
   "cell_type": "markdown",
   "id": "5d5b0979",
   "metadata": {},
   "source": [
    "Lemmatization"
   ]
  },
  {
   "cell_type": "code",
   "execution_count": 17,
   "id": "bcca894d",
   "metadata": {},
   "outputs": [],
   "source": [
    "\n",
    "from nltk.stem import WordNetLemmatizer"
   ]
  },
  {
   "cell_type": "code",
   "execution_count": 18,
   "id": "29de88b0",
   "metadata": {},
   "outputs": [],
   "source": [
    "lemmatizer=WordNetLemmatizer()"
   ]
  },
  {
   "cell_type": "code",
   "execution_count": 19,
   "id": "3ffa2fb0",
   "metadata": {},
   "outputs": [
    {
     "name": "stderr",
     "output_type": "stream",
     "text": [
      "[nltk_data] Downloading package wordnet to\n",
      "[nltk_data]     c:\\Users\\huzef\\anaconda3\\nltk_data...\n",
      "[nltk_data]   Package wordnet is already up-to-date!\n"
     ]
    },
    {
     "data": {
      "text/plain": [
       "True"
      ]
     },
     "execution_count": 19,
     "metadata": {},
     "output_type": "execute_result"
    }
   ],
   "source": [
    "nltk.download('wordnet')"
   ]
  },
  {
   "cell_type": "code",
   "execution_count": 20,
   "id": "ac2af6d0",
   "metadata": {},
   "outputs": [
    {
     "name": "stdout",
     "output_type": "stream",
     "text": [
      "mahendra\n",
      "singh\n",
      "dhoni\n",
      "ndr\n",
      "dh\n",
      "n\n",
      "born\n",
      "july\n",
      "indian\n",
      "professional\n",
      "cricketer\n",
      "play\n",
      "right\n",
      "handed\n",
      "batter\n",
      "wicket\n",
      "keeper\n",
      "widely\n",
      "regarded\n",
      "one\n",
      "prolific\n",
      "wicket\n",
      "keeper\n",
      "batsman\n",
      "captain\n",
      "one\n",
      "greatest\n",
      "odi\n",
      "batsman\n",
      "represented\n",
      "indian\n",
      "cricket\n",
      "team\n",
      "captain\n",
      "side\n",
      "limited\n",
      "over\n",
      "format\n",
      "test\n",
      "cricket\n",
      "dhoni\n",
      "captained\n",
      "international\n",
      "match\n",
      "successful\n",
      "indian\n",
      "captain\n",
      "led\n",
      "india\n",
      "victory\n",
      "icc\n",
      "world\n",
      "twenty\n",
      "cricket\n",
      "world\n",
      "cup\n",
      "icc\n",
      "champion\n",
      "trophy\n",
      "captain\n",
      "win\n",
      "three\n",
      "different\n",
      "limited\n",
      "over\n",
      "icc\n",
      "tournament\n",
      "also\n",
      "led\n",
      "team\n",
      "asia\n",
      "cup\n",
      "member\n",
      "title\n",
      "winning\n",
      "squad\n"
     ]
    }
   ],
   "source": [
    "for i in corpus:\n",
    "    words=nltk.word_tokenize(i)\n",
    "    for word in words:\n",
    "        if word not in set(stopwords.words('english')):\n",
    "            print(lemmatizer.lemmatize(word))"
   ]
  },
  {
   "cell_type": "code",
   "execution_count": null,
   "id": "b55e0eb7",
   "metadata": {},
   "outputs": [],
   "source": []
  },
  {
   "cell_type": "markdown",
   "id": "38c97999",
   "metadata": {},
   "source": [
    "Stopwords in lemmatization"
   ]
  },
  {
   "cell_type": "code",
   "execution_count": 21,
   "id": "08449884",
   "metadata": {},
   "outputs": [
    {
     "name": "stderr",
     "output_type": "stream",
     "text": [
      "[nltk_data] Downloading package stopwords to\n",
      "[nltk_data]     c:\\Users\\huzef\\anaconda3\\nltk_data...\n",
      "[nltk_data]   Package stopwords is already up-to-date!\n"
     ]
    },
    {
     "data": {
      "text/plain": [
       "True"
      ]
     },
     "execution_count": 21,
     "metadata": {},
     "output_type": "execute_result"
    }
   ],
   "source": [
    "nltk.download('stopwords')"
   ]
  },
  {
   "cell_type": "code",
   "execution_count": 22,
   "id": "0b978b9e",
   "metadata": {},
   "outputs": [],
   "source": [
    "corpus=[]\n",
    "for i in range(len(sentence)):\n",
    "    rev=re.sub('[^a-zA-Z]', ' ',sentence[i])\n",
    "    rev=rev.lower()\n",
    "    rev=rev.split()\n",
    "    rev=[lemmatizer.lemmatize(word) for word in rev if not word in set(stopwords.words('english'))]\n",
    "    rev=' '.join(rev)\n",
    "    corpus.append(rev)"
   ]
  },
  {
   "cell_type": "markdown",
   "id": "1993ddc9",
   "metadata": {},
   "source": [
    "Bag of Word"
   ]
  },
  {
   "cell_type": "code",
   "execution_count": 23,
   "id": "4647792c",
   "metadata": {},
   "outputs": [],
   "source": [
    "from sklearn.feature_extraction.text import CountVectorizer\n",
    "cv=CountVectorizer()#n _gram"
   ]
  },
  {
   "cell_type": "markdown",
   "id": "b4005f7d",
   "metadata": {},
   "source": [
    "N Grams\n"
   ]
  },
  {
   "cell_type": "code",
   "execution_count": 24,
   "id": "f0bb8413",
   "metadata": {},
   "outputs": [],
   "source": [
    "cv1=CountVectorizer(ngram_range=(3,3))  ## creates a tri grams \n",
    "cv2=CountVectorizer(ngram_range=(2,3))# creates a bi grams and tri grams"
   ]
  },
  {
   "cell_type": "code",
   "execution_count": null,
   "id": "6dcc4b96",
   "metadata": {},
   "outputs": [],
   "source": []
  },
  {
   "cell_type": "code",
   "execution_count": 25,
   "id": "74768655",
   "metadata": {},
   "outputs": [],
   "source": [
    "X=cv.fit_transform(corpus)\n",
    "Y=cv1.fit_transform(corpus)\n",
    "Z=cv2.fit_transform(corpus)"
   ]
  },
  {
   "cell_type": "code",
   "execution_count": 26,
   "id": "4808f9d9",
   "metadata": {},
   "outputs": [
    {
     "data": {
      "text/plain": [
       "{'mahendra': 25,\n",
       " 'singh': 39,\n",
       " 'dhoni': 12,\n",
       " 'ndr': 28,\n",
       " 'dh': 11,\n",
       " 'born': 4,\n",
       " 'july': 21,\n",
       " 'indian': 19,\n",
       " 'professional': 33,\n",
       " 'cricketer': 9,\n",
       " 'play': 32,\n",
       " 'right': 37,\n",
       " 'handed': 16,\n",
       " 'batter': 3,\n",
       " 'wicket': 50,\n",
       " 'keeper': 22,\n",
       " 'widely': 51,\n",
       " 'regarded': 35,\n",
       " 'one': 30,\n",
       " 'prolific': 34,\n",
       " 'batsman': 2,\n",
       " 'captain': 5,\n",
       " 'greatest': 15,\n",
       " 'odi': 29,\n",
       " 'represented': 36,\n",
       " 'cricket': 8,\n",
       " 'team': 42,\n",
       " 'side': 38,\n",
       " 'limited': 24,\n",
       " 'over': 31,\n",
       " 'format': 14,\n",
       " 'test': 43,\n",
       " 'captained': 6,\n",
       " 'international': 20,\n",
       " 'match': 26,\n",
       " 'successful': 41,\n",
       " 'led': 23,\n",
       " 'india': 18,\n",
       " 'victory': 49,\n",
       " 'icc': 17,\n",
       " 'world': 54,\n",
       " 'twenty': 48,\n",
       " 'cup': 10,\n",
       " 'champion': 7,\n",
       " 'trophy': 47,\n",
       " 'win': 52,\n",
       " 'three': 44,\n",
       " 'different': 13,\n",
       " 'tournament': 46,\n",
       " 'also': 0,\n",
       " 'asia': 1,\n",
       " 'member': 27,\n",
       " 'title': 45,\n",
       " 'winning': 53,\n",
       " 'squad': 40}"
      ]
     },
     "execution_count": 26,
     "metadata": {},
     "output_type": "execute_result"
    }
   ],
   "source": [
    "cv.vocabulary_# gives the indices of the words "
   ]
  },
  {
   "cell_type": "code",
   "execution_count": 27,
   "id": "6563a4d7",
   "metadata": {},
   "outputs": [
    {
     "data": {
      "text/plain": [
       "{'mahendra singh dhoni': 35,\n",
       " 'singh dhoni ndr': 51,\n",
       " 'dhoni ndr dh': 18,\n",
       " 'ndr dh born': 38,\n",
       " 'dh born july': 16,\n",
       " 'born july indian': 5,\n",
       " 'july indian professional': 29,\n",
       " 'indian professional cricketer': 27,\n",
       " 'professional cricketer play': 45,\n",
       " 'cricketer play right': 13,\n",
       " 'play right handed': 44,\n",
       " 'right handed batter': 49,\n",
       " 'handed batter wicket': 22,\n",
       " 'batter wicket keeper': 4,\n",
       " 'widely regarded one': 61,\n",
       " 'regarded one prolific': 47,\n",
       " 'one prolific wicket': 41,\n",
       " 'prolific wicket keeper': 46,\n",
       " 'wicket keeper batsman': 60,\n",
       " 'keeper batsman captain': 30,\n",
       " 'batsman captain one': 2,\n",
       " 'captain one greatest': 6,\n",
       " 'one greatest odi': 40,\n",
       " 'greatest odi batsman': 21,\n",
       " 'odi batsman represented': 39,\n",
       " 'batsman represented indian': 3,\n",
       " 'represented indian cricket': 48,\n",
       " 'indian cricket team': 26,\n",
       " 'cricket team captain': 11,\n",
       " 'team captain side': 54,\n",
       " 'captain side limited': 7,\n",
       " 'side limited over': 50,\n",
       " 'limited over format': 33,\n",
       " 'over format test': 42,\n",
       " 'format test cricket': 20,\n",
       " 'dhoni captained international': 17,\n",
       " 'captained international match': 9,\n",
       " 'international match successful': 28,\n",
       " 'match successful indian': 36,\n",
       " 'successful indian captain': 52,\n",
       " 'led india victory': 31,\n",
       " 'india victory icc': 25,\n",
       " 'victory icc world': 59,\n",
       " 'icc world twenty': 24,\n",
       " 'world twenty cricket': 64,\n",
       " 'twenty cricket world': 58,\n",
       " 'cricket world cup': 12,\n",
       " 'world cup icc': 63,\n",
       " 'cup icc champion': 14,\n",
       " 'icc champion trophy': 23,\n",
       " 'champion trophy captain': 10,\n",
       " 'trophy captain win': 57,\n",
       " 'captain win three': 8,\n",
       " 'win three different': 62,\n",
       " 'three different limited': 55,\n",
       " 'different limited over': 19,\n",
       " 'limited over icc': 34,\n",
       " 'over icc tournament': 43,\n",
       " 'also led team': 0,\n",
       " 'led team asia': 32,\n",
       " 'team asia cup': 53,\n",
       " 'asia cup member': 1,\n",
       " 'cup member title': 15,\n",
       " 'member title winning': 37,\n",
       " 'title winning squad': 56}"
      ]
     },
     "execution_count": 27,
     "metadata": {},
     "output_type": "execute_result"
    }
   ],
   "source": [
    "cv1.vocabulary_"
   ]
  },
  {
   "cell_type": "code",
   "execution_count": 28,
   "id": "77b01f41",
   "metadata": {},
   "outputs": [
    {
     "data": {
      "text/plain": [
       "{'mahendra singh': 71,\n",
       " 'singh dhoni': 103,\n",
       " 'dhoni ndr': 36,\n",
       " 'ndr dh': 77,\n",
       " 'dh born': 32,\n",
       " 'born july': 10,\n",
       " 'july indian': 60,\n",
       " 'indian professional': 56,\n",
       " 'professional cricketer': 91,\n",
       " 'cricketer play': 26,\n",
       " 'play right': 89,\n",
       " 'right handed': 99,\n",
       " 'handed batter': 44,\n",
       " 'batter wicket': 8,\n",
       " 'wicket keeper': 122,\n",
       " 'mahendra singh dhoni': 72,\n",
       " 'singh dhoni ndr': 104,\n",
       " 'dhoni ndr dh': 37,\n",
       " 'ndr dh born': 78,\n",
       " 'dh born july': 33,\n",
       " 'born july indian': 11,\n",
       " 'july indian professional': 61,\n",
       " 'indian professional cricketer': 57,\n",
       " 'professional cricketer play': 92,\n",
       " 'cricketer play right': 27,\n",
       " 'play right handed': 90,\n",
       " 'right handed batter': 100,\n",
       " 'handed batter wicket': 45,\n",
       " 'batter wicket keeper': 9,\n",
       " 'widely regarded': 124,\n",
       " 'regarded one': 95,\n",
       " 'one prolific': 83,\n",
       " 'prolific wicket': 93,\n",
       " 'keeper batsman': 62,\n",
       " 'batsman captain': 4,\n",
       " 'captain one': 12,\n",
       " 'one greatest': 81,\n",
       " 'greatest odi': 42,\n",
       " 'odi batsman': 79,\n",
       " 'batsman represented': 6,\n",
       " 'represented indian': 97,\n",
       " 'indian cricket': 54,\n",
       " 'cricket team': 22,\n",
       " 'team captain': 109,\n",
       " 'captain side': 14,\n",
       " 'side limited': 101,\n",
       " 'limited over': 68,\n",
       " 'over format': 85,\n",
       " 'format test': 40,\n",
       " 'test cricket': 111,\n",
       " 'widely regarded one': 125,\n",
       " 'regarded one prolific': 96,\n",
       " 'one prolific wicket': 84,\n",
       " 'prolific wicket keeper': 94,\n",
       " 'wicket keeper batsman': 123,\n",
       " 'keeper batsman captain': 63,\n",
       " 'batsman captain one': 5,\n",
       " 'captain one greatest': 13,\n",
       " 'one greatest odi': 82,\n",
       " 'greatest odi batsman': 43,\n",
       " 'odi batsman represented': 80,\n",
       " 'batsman represented indian': 7,\n",
       " 'represented indian cricket': 98,\n",
       " 'indian cricket team': 55,\n",
       " 'cricket team captain': 23,\n",
       " 'team captain side': 110,\n",
       " 'captain side limited': 15,\n",
       " 'side limited over': 102,\n",
       " 'limited over format': 69,\n",
       " 'over format test': 86,\n",
       " 'format test cricket': 41,\n",
       " 'dhoni captained': 34,\n",
       " 'captained international': 18,\n",
       " 'international match': 58,\n",
       " 'match successful': 73,\n",
       " 'successful indian': 105,\n",
       " 'indian captain': 53,\n",
       " 'dhoni captained international': 35,\n",
       " 'captained international match': 19,\n",
       " 'international match successful': 59,\n",
       " 'match successful indian': 74,\n",
       " 'successful indian captain': 106,\n",
       " 'led india': 64,\n",
       " 'india victory': 51,\n",
       " 'victory icc': 120,\n",
       " 'icc world': 49,\n",
       " 'world twenty': 131,\n",
       " 'twenty cricket': 118,\n",
       " 'cricket world': 24,\n",
       " 'world cup': 129,\n",
       " 'cup icc': 28,\n",
       " 'icc champion': 46,\n",
       " 'champion trophy': 20,\n",
       " 'trophy captain': 116,\n",
       " 'captain win': 16,\n",
       " 'win three': 126,\n",
       " 'three different': 112,\n",
       " 'different limited': 38,\n",
       " 'over icc': 87,\n",
       " 'icc tournament': 48,\n",
       " 'led india victory': 65,\n",
       " 'india victory icc': 52,\n",
       " 'victory icc world': 121,\n",
       " 'icc world twenty': 50,\n",
       " 'world twenty cricket': 132,\n",
       " 'twenty cricket world': 119,\n",
       " 'cricket world cup': 25,\n",
       " 'world cup icc': 130,\n",
       " 'cup icc champion': 29,\n",
       " 'icc champion trophy': 47,\n",
       " 'champion trophy captain': 21,\n",
       " 'trophy captain win': 117,\n",
       " 'captain win three': 17,\n",
       " 'win three different': 127,\n",
       " 'three different limited': 113,\n",
       " 'different limited over': 39,\n",
       " 'limited over icc': 70,\n",
       " 'over icc tournament': 88,\n",
       " 'also led': 0,\n",
       " 'led team': 66,\n",
       " 'team asia': 107,\n",
       " 'asia cup': 2,\n",
       " 'cup member': 30,\n",
       " 'member title': 75,\n",
       " 'title winning': 114,\n",
       " 'winning squad': 128,\n",
       " 'also led team': 1,\n",
       " 'led team asia': 67,\n",
       " 'team asia cup': 108,\n",
       " 'asia cup member': 3,\n",
       " 'cup member title': 31,\n",
       " 'member title winning': 76,\n",
       " 'title winning squad': 115}"
      ]
     },
     "execution_count": 28,
     "metadata": {},
     "output_type": "execute_result"
    }
   ],
   "source": [
    "cv2.vocabulary_"
   ]
  },
  {
   "cell_type": "code",
   "execution_count": 29,
   "id": "4134ff88",
   "metadata": {},
   "outputs": [
    {
     "data": {
      "text/plain": [
       "'mahendra singh dhoni ndr dh n born july indian professional cricketer play right handed batter wicket keeper'"
      ]
     },
     "execution_count": 29,
     "metadata": {},
     "output_type": "execute_result"
    }
   ],
   "source": [
    "corpus[0]"
   ]
  },
  {
   "cell_type": "code",
   "execution_count": 30,
   "id": "34c676fe",
   "metadata": {},
   "outputs": [
    {
     "data": {
      "text/plain": [
       "array([[0, 0, 0, 1, 1, 0, 0, 0, 0, 1, 0, 1, 1, 0, 0, 0, 1, 0, 0, 1, 0, 1,\n",
       "        1, 0, 0, 1, 0, 0, 1, 0, 0, 0, 1, 1, 0, 0, 0, 1, 0, 1, 0, 0, 0, 0,\n",
       "        0, 0, 0, 0, 0, 0, 1, 0, 0, 0, 0]], dtype=int64)"
      ]
     },
     "execution_count": 30,
     "metadata": {},
     "output_type": "execute_result"
    }
   ],
   "source": [
    "X[0].toarray()"
   ]
  },
  {
   "cell_type": "code",
   "execution_count": 31,
   "id": "aff91a83",
   "metadata": {},
   "outputs": [
    {
     "data": {
      "text/plain": [
       "array([[0, 0, 0, 0, 1, 1, 0, 0, 0, 0, 0, 0, 0, 1, 0, 0, 1, 0, 1, 0, 0, 0,\n",
       "        1, 0, 0, 0, 0, 1, 0, 1, 0, 0, 0, 0, 0, 1, 0, 0, 1, 0, 0, 0, 0, 0,\n",
       "        1, 1, 0, 0, 0, 1, 0, 1, 0, 0, 0, 0, 0, 0, 0, 0, 0, 0, 0, 0, 0]],\n",
       "      dtype=int64)"
      ]
     },
     "execution_count": 31,
     "metadata": {},
     "output_type": "execute_result"
    }
   ],
   "source": [
    "Y[0].toarray() # tri grams"
   ]
  },
  {
   "cell_type": "code",
   "execution_count": 32,
   "id": "4006ae06",
   "metadata": {},
   "outputs": [
    {
     "data": {
      "text/plain": [
       "array([[0, 0, 0, 0, 0, 0, 0, 0, 1, 1, 1, 1, 0, 0, 0, 0, 0, 0, 0, 0, 0, 0,\n",
       "        0, 0, 0, 0, 1, 1, 0, 0, 0, 0, 1, 1, 0, 0, 1, 1, 0, 0, 0, 0, 0, 0,\n",
       "        1, 1, 0, 0, 0, 0, 0, 0, 0, 0, 0, 0, 1, 1, 0, 0, 1, 1, 0, 0, 0, 0,\n",
       "        0, 0, 0, 0, 0, 1, 1, 0, 0, 0, 0, 1, 1, 0, 0, 0, 0, 0, 0, 0, 0, 0,\n",
       "        0, 1, 1, 1, 1, 0, 0, 0, 0, 0, 0, 1, 1, 0, 0, 1, 1, 0, 0, 0, 0, 0,\n",
       "        0, 0, 0, 0, 0, 0, 0, 0, 0, 0, 0, 0, 1, 0, 0, 0, 0, 0, 0, 0, 0, 0,\n",
       "        0]], dtype=int64)"
      ]
     },
     "execution_count": 32,
     "metadata": {},
     "output_type": "execute_result"
    }
   ],
   "source": [
    "Z[0].toarray() # bi & tri grams"
   ]
  },
  {
   "cell_type": "markdown",
   "id": "db47d564",
   "metadata": {},
   "source": [
    "TF-IDF\n"
   ]
  },
  {
   "cell_type": "code",
   "execution_count": 33,
   "id": "54a9a88e",
   "metadata": {},
   "outputs": [],
   "source": [
    "from sklearn.feature_extraction.text import TfidfVectorizer"
   ]
  },
  {
   "cell_type": "code",
   "execution_count": null,
   "id": "a311c279",
   "metadata": {},
   "outputs": [],
   "source": [
    "tf=TfidfVectorizer(ngram_range=(2,2),max_features=3)#max_feature=n--a top n frequencies are considre \n",
    "x=tf.fit_transform(corpus),"
   ]
  },
  {
   "cell_type": "code",
   "execution_count": 35,
   "id": "211f7ad3",
   "metadata": {},
   "outputs": [
    {
     "data": {
      "text/plain": [
       "array([[0.        , 0.        , 1.        ],\n",
       "       [0.53177225, 0.659118  , 0.53177225],\n",
       "       [0.        , 0.        , 0.        ],\n",
       "       [1.        , 0.        , 0.        ],\n",
       "       [0.        , 0.        , 0.        ]])"
      ]
     },
     "execution_count": 35,
     "metadata": {},
     "output_type": "execute_result"
    }
   ],
   "source": [
    "x[0].toarray()"
   ]
  },
  {
   "cell_type": "code",
   "execution_count": null,
   "id": "03fa4c52",
   "metadata": {},
   "outputs": [],
   "source": []
  },
  {
   "cell_type": "code",
   "execution_count": null,
   "id": "bb87d135",
   "metadata": {},
   "outputs": [],
   "source": []
  }
 ],
 "metadata": {
  "kernelspec": {
   "display_name": "base",
   "language": "python",
   "name": "python3"
  },
  "language_info": {
   "codemirror_mode": {
    "name": "ipython",
    "version": 3
   },
   "file_extension": ".py",
   "mimetype": "text/x-python",
   "name": "python",
   "nbconvert_exporter": "python",
   "pygments_lexer": "ipython3",
   "version": "3.12.7"
  }
 },
 "nbformat": 4,
 "nbformat_minor": 5
}
